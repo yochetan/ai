{
 "cells": [
  {
   "cell_type": "code",
   "execution_count": null,
   "id": "18458fab-6f2d-483f-b816-cc1389ff8de9",
   "metadata": {},
   "outputs": [],
   "source": [
    "import numpy as np\n",
    "import pandas as pd\n",
    "import seaborn as sns\n",
    "import matplotlib.pyplot as plt\n",
    "from sklearn.model_selection import train_test_split\n",
    "from sklearn.naive_bayes import MultinomialNB,CategoricalNB,GaussianNB\n",
    "from sklearn.metrics import accuracy_score"
   ]
  },
  {
   "cell_type": "code",
   "execution_count": null,
   "id": "cced642a-9c86-4a05-9edb-6ff637ed5490",
   "metadata": {},
   "outputs": [],
   "source": [
    "df=pd.read_csv(\"C:/Users/ICTC/Downloads/diabetes.csv\")\n",
    "df.head()\n",
    "df.info()\n",
    "df.shape\n"
   ]
  },
  {
   "cell_type": "code",
   "execution_count": null,
   "id": "072627ca-04d9-4a98-87fa-1f6110cd615d",
   "metadata": {},
   "outputs": [],
   "source": [
    "\n",
    "x=df.drop('Outcome',axis=1).values\n",
    "y=df['Outcome'].values"
   ]
  },
  {
   "cell_type": "code",
   "execution_count": null,
   "id": "e63b30e7-82e6-4b92-b359-23c34f1edff3",
   "metadata": {},
   "outputs": [],
   "source": [
    "x_train,x_test,y_train,y_test=train_test_split(x,y,test_size=0.4,random_state=42)"
   ]
  },
  {
   "cell_type": "code",
   "execution_count": null,
   "id": "5e587acb-13bc-4f5a-8664-35df50225a37",
   "metadata": {},
   "outputs": [],
   "source": [
    "from sklearn.neighbors import KNeighborsClassifier\n",
    "neighbors=np.arange(1,9)\n",
    "train_accuracy=np.empty(len(neighbors))\n",
    "test_accuracy=np.empty(len(neighbors))"
   ]
  },
  {
   "cell_type": "code",
   "execution_count": null,
   "id": "7c585cd1-20c4-4955-ab4d-8959f9719af7",
   "metadata": {},
   "outputs": [],
   "source": [
    "for i,k in enumerate(neighbors):\n",
    "    knn=KNeighborsClassifier(n_neighbors=k)\n",
    "    knn.fit(x_train,y_train)"
   ]
  },
  {
   "cell_type": "code",
   "execution_count": null,
   "id": "64ed0e35-a008-4a00-a953-70d728e986fb",
   "metadata": {},
   "outputs": [],
   "source": [
    "train_accuracy[i]=knn.score(x_train,y_train)\n",
    "test_accuracy[i]=knn.score(x_test,y_test)"
   ]
  },
  {
   "cell_type": "code",
   "execution_count": null,
   "id": "b116d34c-0ec0-42ce-b163-a974bc78f9a3",
   "metadata": {},
   "outputs": [],
   "source": [
    "plt.title('KNN varying number of neighbors')\n",
    "plt.plot(neighbors,test_accuracy,label='Testing Accuracy')\n",
    "plt.plot(neighbors,train_accuracy,label='Training Accuracy')\n",
    "plt.legend()\n",
    "plt.xlabel('Number of neighbors')\n",
    "plt.ylabel('Accuracy')\n",
    "plt.show()"
   ]
  },
  {
   "cell_type": "code",
   "execution_count": null,
   "id": "fe1423e3-c500-41fd-9565-6ef9da9a8938",
   "metadata": {},
   "outputs": [],
   "source": [
    "knn=KNeighborsClassifier(n_neighbors=7)\n",
    "knn.fit(x_train,y_train)\n",
    "knn.score(x_test,y_test)\n"
   ]
  },
  {
   "cell_type": "code",
   "execution_count": null,
   "id": "9c25c8b0-ceda-4645-95da-a068b4c47cb5",
   "metadata": {},
   "outputs": [],
   "source": [
    "from sklearn.metrics import confusion_matrix\n",
    "y_pred=knn.predict(x_test)\n",
    "confusion_matrix(y_test,y_pred)"
   ]
  },
  {
   "cell_type": "code",
   "execution_count": null,
   "id": "bb987111-659c-4ef6-a7cd-29e3f643e914",
   "metadata": {},
   "outputs": [],
   "source": [
    "from sklearn.metrics import classification_report\n",
    "print(classification_report(y_test,y_pred))"
   ]
  },
  {
   "cell_type": "code",
   "execution_count": null,
   "id": "5f36920a-a2fa-44e6-a7b2-8a7f06dff191",
   "metadata": {},
   "outputs": [],
   "source": [
    "y_pred_proba=knn.predict_proba(x_test)[:,1]"
   ]
  },
  {
   "cell_type": "code",
   "execution_count": null,
   "id": "dd79ffc0-2039-4398-b0b6-0bd90c8ec16a",
   "metadata": {},
   "outputs": [],
   "source": [
    "from sklearn.metrics import roc_curve\n",
    "fpr,tpr,thresholds=roc_curve(y_test,y_pred_proba)"
   ]
  },
  {
   "cell_type": "code",
   "execution_count": null,
   "id": "3f8334fe-546b-4fe2-99e9-d2c815b6ddb6",
   "metadata": {},
   "outputs": [],
   "source": [
    "plt.plot([0,1],[0,1],'k--')\n",
    "plt.plot(fpr,tpr,label='knn')\n",
    "plt.xlabel('fpr')\n",
    "plt.ylabel('tpr')\n",
    "plt.title('knn(ROC_curve)')"
   ]
  },
  {
   "cell_type": "code",
   "execution_count": null,
   "id": "b5d8b6b6-12c4-4898-8005-c83dae6751af",
   "metadata": {},
   "outputs": [],
   "source": [
    "from sklearn.metrics import roc_auc_score\n",
    "roc_auc_score(y_test,y_pred_proba)\n",
    "\n"
   ]
  },
  {
   "cell_type": "code",
   "execution_count": null,
   "id": "d18e3306-12f3-4889-8b8b-88de3f7e0e41",
   "metadata": {},
   "outputs": [],
   "source": [
    "from sklearn.model_selection import GridSearchCV\n",
    "param_grid={'n_neighbors':np.arange(1,50)}\n",
    "\n"
   ]
  },
  {
   "cell_type": "code",
   "execution_count": null,
   "id": "f0531663-cd2f-49f7-9535-419fff452b6a",
   "metadata": {},
   "outputs": [],
   "source": [
    "knn=KNeighborsClassifier()\n",
    "knn_CV=GridSearchCV(knn,param_grid,cv=5)\n",
    "knn_CV.fit(x,y)"
   ]
  },
  {
   "cell_type": "code",
   "execution_count": null,
   "id": "62af9a2d-6f76-443f-b8d0-b20e91741c45",
   "metadata": {},
   "outputs": [],
   "source": [
    "knn_CV.best_score_\n",
    "knn_CV.best_paramas_"
   ]
  },
  {
   "cell_type": "code",
   "execution_count": null,
   "id": "6c9d7a8b-f6d1-4dbc-8361-5c007ca6354f",
   "metadata": {},
   "outputs": [],
   "source": []
  }
 ],
 "metadata": {
  "kernelspec": {
   "display_name": "Python 3 (ipykernel)",
   "language": "python",
   "name": "python3"
  },
  "language_info": {
   "codemirror_mode": {
    "name": "ipython",
    "version": 3
   },
   "file_extension": ".py",
   "mimetype": "text/x-python",
   "name": "python",
   "nbconvert_exporter": "python",
   "pygments_lexer": "ipython3",
   "version": "3.12.4"
  }
 },
 "nbformat": 4,
 "nbformat_minor": 5
}
